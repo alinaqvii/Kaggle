{
 "cells": [
  {
   "cell_type": "markdown",
   "id": "0c6d462c",
   "metadata": {},
   "source": [
    "# Kaggle Data"
   ]
  },
  {
   "cell_type": "code",
   "execution_count": 10,
   "id": "4baeec74",
   "metadata": {},
   "outputs": [],
   "source": [
    "import numpy as np\n",
    "import pandas as pd\n",
    "import matplotlib.pyplot as plt"
   ]
  },
  {
   "cell_type": "code",
   "execution_count": 11,
   "id": "0fb72287",
   "metadata": {},
   "outputs": [],
   "source": [
    "df = pd.read_csv('cardio_alco.csv')\n",
    "df1 = pd.read_csv('cardio_base.csv')\n",
    "df2 = pd.read_csv('covid_data.csv')"
   ]
  },
  {
   "cell_type": "code",
   "execution_count": 12,
   "id": "265834ee",
   "metadata": {},
   "outputs": [
    {
     "name": "stdout",
     "output_type": "stream",
     "text": [
      "          id    age  gender  height  weight  ap_hi  ap_lo  cholesterol  smoke\n",
      "0          0  18393       2     168    62.0    110     80            1      0\n",
      "1          1  20228       1     156    85.0    140     90            3      0\n",
      "2          2  18857       1     165    64.0    130     70            3      0\n",
      "3          3  17623       2     169    82.0    150    100            1      0\n",
      "4          4  17474       1     156    56.0    100     60            1      0\n",
      "...      ...    ...     ...     ...     ...    ...    ...          ...    ...\n",
      "69995  99993  19240       2     168    76.0    120     80            1      1\n",
      "69996  99995  22601       1     158   126.0    140     90            2      0\n",
      "69997  99996  19066       2     183   105.0    180     90            3      0\n",
      "69998  99998  22431       1     163    72.0    135     80            1      0\n",
      "69999  99999  20540       1     170    72.0    120     80            2      0\n",
      "\n",
      "[70000 rows x 9 columns]\n"
     ]
    }
   ],
   "source": [
    "print(df1)"
   ]
  },
  {
   "cell_type": "code",
   "execution_count": 13,
   "id": "562f4326",
   "metadata": {},
   "outputs": [],
   "source": [
    "df1.age = (df1['age']/365).astype(int)"
   ]
  },
  {
   "cell_type": "code",
   "execution_count": 16,
   "id": "c3f95073",
   "metadata": {},
   "outputs": [],
   "source": [
    "df1.set_index('id', inplace=True)"
   ]
  },
  {
   "cell_type": "code",
   "execution_count": 17,
   "id": "7a728ddd",
   "metadata": {},
   "outputs": [
    {
     "name": "stdout",
     "output_type": "stream",
     "text": [
      "       age  gender  height  weight  ap_hi  ap_lo  cholesterol  smoke\n",
      "id                                                                  \n",
      "0       50       2     168    62.0    110     80            1      0\n",
      "1       55       1     156    85.0    140     90            3      0\n",
      "2       51       1     165    64.0    130     70            3      0\n",
      "3       48       2     169    82.0    150    100            1      0\n",
      "4       47       1     156    56.0    100     60            1      0\n",
      "...    ...     ...     ...     ...    ...    ...          ...    ...\n",
      "99993   52       2     168    76.0    120     80            1      1\n",
      "99995   61       1     158   126.0    140     90            2      0\n",
      "99996   52       2     183   105.0    180     90            3      0\n",
      "99998   61       1     163    72.0    135     80            1      0\n",
      "99999   56       1     170    72.0    120     80            2      0\n",
      "\n",
      "[70000 rows x 8 columns]\n"
     ]
    }
   ],
   "source": [
    "print(df1)"
   ]
  },
  {
   "cell_type": "code",
   "execution_count": 9,
   "id": "211fedab",
   "metadata": {},
   "outputs": [
    {
     "data": {
      "text/html": [
       "<div>\n",
       "<style scoped>\n",
       "    .dataframe tbody tr th:only-of-type {\n",
       "        vertical-align: middle;\n",
       "    }\n",
       "\n",
       "    .dataframe tbody tr th {\n",
       "        vertical-align: top;\n",
       "    }\n",
       "\n",
       "    .dataframe thead th {\n",
       "        text-align: right;\n",
       "    }\n",
       "</style>\n",
       "<table border=\"1\" class=\"dataframe\">\n",
       "  <thead>\n",
       "    <tr style=\"text-align: right;\">\n",
       "      <th></th>\n",
       "      <th>id</th>\n",
       "      <th>age</th>\n",
       "      <th>gender</th>\n",
       "      <th>height</th>\n",
       "      <th>weight</th>\n",
       "      <th>ap_hi</th>\n",
       "      <th>ap_lo</th>\n",
       "      <th>cholesterol</th>\n",
       "      <th>smoke</th>\n",
       "    </tr>\n",
       "  </thead>\n",
       "  <tbody>\n",
       "    <tr>\n",
       "      <th>6486</th>\n",
       "      <td>9223</td>\n",
       "      <td>21220</td>\n",
       "      <td>1</td>\n",
       "      <td>250</td>\n",
       "      <td>86.0</td>\n",
       "      <td>140</td>\n",
       "      <td>100</td>\n",
       "      <td>3</td>\n",
       "      <td>0</td>\n",
       "    </tr>\n",
       "  </tbody>\n",
       "</table>\n",
       "</div>"
      ],
      "text/plain": [
       "        id    age  gender  height  weight  ap_hi  ap_lo  cholesterol  smoke\n",
       "6486  9223  21220       1     250    86.0    140    100            3      0"
      ]
     },
     "execution_count": 9,
     "metadata": {},
     "output_type": "execute_result"
    }
   ],
   "source": [
    "df1[df1['height']==df1['height'].max()]"
   ]
  },
  {
   "cell_type": "code",
   "execution_count": null,
   "id": "a8bdaf7d",
   "metadata": {},
   "outputs": [],
   "source": []
  }
 ],
 "metadata": {
  "kernelspec": {
   "display_name": "Python 3 (ipykernel)",
   "language": "python",
   "name": "python3"
  },
  "language_info": {
   "codemirror_mode": {
    "name": "ipython",
    "version": 3
   },
   "file_extension": ".py",
   "mimetype": "text/x-python",
   "name": "python",
   "nbconvert_exporter": "python",
   "pygments_lexer": "ipython3",
   "version": "3.10.1"
  }
 },
 "nbformat": 4,
 "nbformat_minor": 5
}
